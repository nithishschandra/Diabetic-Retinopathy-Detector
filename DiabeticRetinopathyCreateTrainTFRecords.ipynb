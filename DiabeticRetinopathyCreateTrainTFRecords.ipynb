{
 "cells": [
  {
   "cell_type": "raw",
   "metadata": {},
   "source": [
    "# Diabetic Retinopathy Image Preprocessing and tfrecords creation"
   ]
  },
  {
   "cell_type": "code",
   "execution_count": 2,
   "metadata": {},
   "outputs": [],
   "source": [
    "import os\n",
    "import re, math\n",
    "import time\n",
    "import pandas as pd\n",
    "import numpy as np\n",
    "import tensorflow as tf\n",
    "import matplotlib.pyplot as plt\n",
    "from sklearn.utils import class_weight\n",
    "import cv2\n",
    "import seaborn as sns\n",
    "sns.set()"
   ]
  },
  {
   "cell_type": "code",
   "execution_count": 3,
   "metadata": {},
   "outputs": [
    {
     "name": "stdout",
     "output_type": "stream",
     "text": [
      "2.18.0\n"
     ]
    }
   ],
   "source": [
    "# check TF version (want: 2.3)\n",
    "print(tf.__version__)"
   ]
  },
  {
   "cell_type": "code",
   "execution_count": 4,
   "metadata": {},
   "outputs": [],
   "source": [
    "BASE_DIR = './'\n",
    "\n",
    "FILE_LABELS = os.path.join(BASE_DIR, 'trainLabels.csv')\n",
    "TRAIN_IMAGES_DIR = os.path.join(BASE_DIR, 'train')\n",
    "\n",
    "TFREC_DIR = os.path.join(BASE_DIR, 'tfrec')"
   ]
  },
  {
   "cell_type": "code",
   "execution_count": 5,
   "metadata": {},
   "outputs": [
    {
     "data": {
      "text/html": [
       "<div>\n",
       "<style scoped>\n",
       "    .dataframe tbody tr th:only-of-type {\n",
       "        vertical-align: middle;\n",
       "    }\n",
       "\n",
       "    .dataframe tbody tr th {\n",
       "        vertical-align: top;\n",
       "    }\n",
       "\n",
       "    .dataframe thead th {\n",
       "        text-align: right;\n",
       "    }\n",
       "</style>\n",
       "<table border=\"1\" class=\"dataframe\">\n",
       "  <thead>\n",
       "    <tr style=\"text-align: right;\">\n",
       "      <th></th>\n",
       "      <th>image</th>\n",
       "      <th>level</th>\n",
       "    </tr>\n",
       "  </thead>\n",
       "  <tbody>\n",
       "    <tr>\n",
       "      <th>0</th>\n",
       "      <td>10_left</td>\n",
       "      <td>0</td>\n",
       "    </tr>\n",
       "    <tr>\n",
       "      <th>1</th>\n",
       "      <td>10_right</td>\n",
       "      <td>0</td>\n",
       "    </tr>\n",
       "    <tr>\n",
       "      <th>2</th>\n",
       "      <td>13_left</td>\n",
       "      <td>0</td>\n",
       "    </tr>\n",
       "    <tr>\n",
       "      <th>3</th>\n",
       "      <td>13_right</td>\n",
       "      <td>0</td>\n",
       "    </tr>\n",
       "    <tr>\n",
       "      <th>4</th>\n",
       "      <td>15_left</td>\n",
       "      <td>1</td>\n",
       "    </tr>\n",
       "  </tbody>\n",
       "</table>\n",
       "</div>"
      ],
      "text/plain": [
       "      image  level\n",
       "0   10_left      0\n",
       "1  10_right      0\n",
       "2   13_left      0\n",
       "3  13_right      0\n",
       "4   15_left      1"
      ]
     },
     "execution_count": 5,
     "metadata": {},
     "output_type": "execute_result"
    }
   ],
   "source": [
    "df_labels = pd.read_csv(FILE_LABELS)\n",
    "\n",
    "df_labels.head()"
   ]
  },
  {
   "cell_type": "code",
   "execution_count": 6,
   "metadata": {},
   "outputs": [
    {
     "data": {
      "image/png": "[encoded data removed]",
      "text/plain": [
       "<Figure size 640x480 with 1 Axes>"
      ]
     },
     "metadata": {},
     "output_type": "display_data"
    }
   ],
   "source": [
    "df_labels.level.hist(bins = [0,1,2,3,4,5]);"
   ]
  },
  {
   "cell_type": "code",
   "execution_count": 7,
   "metadata": {},
   "outputs": [
    {
     "data": {
      "text/plain": [
       "level\n",
       "0    25810\n",
       "1     2443\n",
       "2     5292\n",
       "3      873\n",
       "4      708\n",
       "dtype: int64"
      ]
     },
     "execution_count": 7,
     "metadata": {},
     "output_type": "execute_result"
    }
   ],
   "source": [
    "df_labels.groupby(['level']).size()"
   ]
  },
  {
   "cell_type": "code",
   "execution_count": 7,
   "metadata": {},
   "outputs": [],
   "source": [
    "# codice preparazione file tfrecord"
   ]
  },
  {
   "cell_type": "code",
   "execution_count": 9,
   "metadata": {},
   "outputs": [],
   "source": [
    "def crop_image_from_gray(img,tol=7):\n",
    "    if img.ndim ==2:\n",
    "        mask = img>tol\n",
    "        return img[np.ix_(mask.any(1),mask.any(0))]\n",
    "    elif img.ndim==3:\n",
    "        gray_img = cv2.cvtColor(img, cv2.COLOR_RGB2GRAY)\n",
    "        mask = gray_img>tol\n",
    "        \n",
    "        check_shape = img[:,:,0][np.ix_(mask.any(1),mask.any(0))].shape[0]\n",
    "        if (check_shape == 0): # image is too dark so that we crop out everything,\n",
    "            return img # return original image\n",
    "        else:\n",
    "            img1=img[:,:,0][np.ix_(mask.any(1),mask.any(0))]\n",
    "            img2=img[:,:,1][np.ix_(mask.any(1),mask.any(0))]\n",
    "            img3=img[:,:,2][np.ix_(mask.any(1),mask.any(0))]\n",
    "    \n",
    "            img = np.stack([img1,img2,img3],axis=-1)\n",
    "    \n",
    "        return img\n",
    "\n",
    "def preprocess_image(image, crop=False, blur = False, sigmaX=10):\n",
    "    # CV2 per default tratta le immagini come BGR\n",
    "    image = cv2.cvtColor(image, cv2.COLOR_BGR2RGB)\n",
    "    \n",
    "    if crop == True:\n",
    "        image = crop_image_from_gray(image)\n",
    "    \n",
    "    image = cv2.resize(image, (IMG_PIXEL, IMG_PIXEL), interpolation = cv2.INTER_AREA)\n",
    "    \n",
    "    if blur == True:\n",
    "        image = cv2.addWeighted (image,4, cv2.GaussianBlur( image , (0,0) , sigmaX) ,-4 ,128)\n",
    "    \n",
    "    return image"
   ]
  },
  {
   "cell_type": "code",
   "execution_count": 10,
   "metadata": {},
   "outputs": [],
   "source": [
    "# utility functions from TF2 docs\n",
    "def _bytes_feature(value):\n",
    "  \"\"\"Returns a bytes_list from a string / byte.\"\"\"\n",
    "  if isinstance(value, type(tf.constant(0))):\n",
    "    value = value.numpy() # BytesList won't unpack a string from an EagerTensor.\n",
    "  return tf.train.Feature(bytes_list=tf.train.BytesList(value=[value]))\n",
    "\n",
    "def _float_feature(value):\n",
    "  \"\"\"Returns a float_list from a float / double.\"\"\"\n",
    "  return tf.train.Feature(float_list=tf.train.FloatList(value=[value]))\n",
    "\n",
    "def _int64_feature(value):\n",
    "  \"\"\"Returns an int64_list from a bool / enum / int / uint.\"\"\"\n",
    "  return tf.train.Feature(int64_list=tf.train.Int64List(value=[value]))"
   ]
  },
  {
   "cell_type": "code",
   "execution_count": 11,
   "metadata": {},
   "outputs": [],
   "source": [
    "def serialize_example(img, patient_id, side, label):\n",
    "  feature = {\n",
    "      'image': _bytes_feature(img),\n",
    "      'patient_id': _int64_feature(patient_id),\n",
    "      'side': _int64_feature(side),       # 0,1, left,right\n",
    "      'label': _int64_feature(label) # [0, 4]\n",
    "  }\n",
    "  example_proto = tf.train.Example(features=tf.train.Features(feature=feature))\n",
    "  return example_proto.SerializeToString()"
   ]
  },
  {
   "cell_type": "code",
   "execution_count": null,
   "metadata": {},
   "outputs": [
    {
     "name": "stdout",
     "output_type": "stream",
     "text": [
      "\n",
      "Writing TFRecord 1 of 18...\n",
      "# # # # # # # # # # # # # # # # # # # # \n",
      "Elapsed:  697.6  (sec)\n",
      "\n",
      "Writing TFRecord 2 of 18...\n",
      "# # # # # # # # # # # "
     ]
    }
   ],
   "source": [
    "# how many imgs in file\n",
    "SIZE = 2000\n",
    "\n",
    "IMG_PIXEL = 512\n",
    "\n",
    "# dataframe where to take metadata\n",
    "df = df_labels \n",
    "\n",
    "# imgs to process\n",
    "IMGS = df['image'].values\n",
    "\n",
    "CT = len(IMGS)//SIZE + int(len(IMGS)%SIZE!=0)\n",
    "\n",
    "count = 0\n",
    "\n",
    "for j in range(CT):\n",
    "    print(); \n",
    "    print('Writing TFRecord %i of %i...'%(j+1, CT))\n",
    "    \n",
    "    tStart = time.time()\n",
    "    \n",
    "    CT2 = min(SIZE, len(IMGS)-j*SIZE)\n",
    "    \n",
    "    with tf.io.TFRecordWriter(os.path.join(TFREC_DIR, 'train%.2i-%i.tfrec'%(j,CT2))) as writer:\n",
    "        for k in range(CT2):\n",
    "            index = SIZE*j+k\n",
    "            img_path = os.path.join(TRAIN_IMAGES_DIR, df.iloc[index].image) + '.jpeg'\n",
    "            \n",
    "            img = cv2.imread(img_path)\n",
    "            \n",
    "            # per default CV2 legge in BGR\n",
    "        \n",
    "            # img = cv2.resize(img, (IMG_PIXEL, IMG_PIXEL), interpolation = cv2.INTER_AREA)\n",
    "            img = preprocess_image(img, crop=True, blur = True, sigmaX=10)\n",
    "            \n",
    "            # potrei cambiare la qualità !!! portarla al 100%\n",
    "            img = cv2.imencode('.jpg', img, (cv2.IMWRITE_JPEG_QUALITY, 94))[1].tobytes()\n",
    "            \n",
    "            name = IMGS[index]\n",
    "            \n",
    "            # get the row from Dataframe\n",
    "            row = df.iloc[index]\n",
    "            \n",
    "            # get patientId\n",
    "            patientID = int(row['image'].split('_')[0])\n",
    "            \n",
    "            # encode side: left = 0, right = 1\n",
    "            if 'left' in row['image']:\n",
    "                side = 0\n",
    "            else:\n",
    "                side = 1\n",
    "            \n",
    "            level = row['level']\n",
    "            \n",
    "            # build the record\n",
    "            # image, patientid, side, label\n",
    "            example = serialize_example(img, patientID, side, level)\n",
    "                \n",
    "            writer.write(example)\n",
    "            \n",
    "            # print progress\n",
    "            if k%100==0: print('#','',end='')\n",
    "                \n",
    "    tEnd = time.time()\n",
    "    \n",
    "    print('')\n",
    "    print('Elapsed: ', round((tEnd - tStart),1), ' (sec)')"
   ]
  },
  {
   "cell_type": "code",
   "execution_count": null,
   "metadata": {},
   "outputs": [],
   "source": [
    "def count_data_items(filenames):\n",
    "    n = [int(re.compile(r\"-([0-9]*)\\.\").search(filename).group(1)) for filename in filenames]\n",
    "    return np.sum(n)"
   ]
  },
  {
   "cell_type": "code",
   "execution_count": null,
   "metadata": {},
   "outputs": [
    {
     "data": {
      "text/plain": [
       "[]"
      ]
     },
     "execution_count": 22,
     "metadata": {},
     "output_type": "execute_result"
    }
   ],
   "source": [
    "TRAIN_FILENAMES = tf.io.gfile.glob(os.path.join(TFREC_DIR,'train*.tfrec'))\n",
    "\n",
    "TRAIN_FILENAMES"
   ]
  },
  {
   "cell_type": "code",
   "execution_count": 23,
   "metadata": {},
   "outputs": [
    {
     "data": {
      "text/plain": [
       "0.0"
      ]
     },
     "execution_count": 23,
     "metadata": {},
     "output_type": "execute_result"
    }
   ],
   "source": [
    "# contiamo il totale delle immagini (dai nomi)\n",
    "count_data_items(TRAIN_FILENAMES)"
   ]
  },
  {
   "cell_type": "code",
   "execution_count": 27,
   "metadata": {},
   "outputs": [],
   "source": [
    "imSize = 256\n",
    "IMAGE_SIZE= [256,256]\n",
    "BATCH_SIZE = 256\n",
    "\n",
    "def decode_image(image_data):\n",
    "    image = tf.image.decode_jpeg(image_data, channels=3)\n",
    "    image = tf.cast(image, tf.float32) / 255.0  # convert image to floats in [0, 1] range\n",
    "    # porto a 256x256\n",
    "    # image = tf.image.resize(image, [imSize,imSize])\n",
    "    image = tf.reshape(image, [*IMAGE_SIZE, 3]) # explicit size needed for TPU\n",
    "    return image\n",
    "\n",
    "def read_labeled_tfrecord(example):\n",
    "    LABELED_TFREC_FORMAT = {\n",
    "        \"image\": tf.io.FixedLenFeature([], tf.string), # tf.string means bytestring\n",
    "        'patient_id' : tf.io.FixedLenFeature([], tf.int64), \n",
    "        'side' : tf.io.FixedLenFeature([], tf.int64),\n",
    "        'label' : tf.io.FixedLenFeature([], tf.int64)\n",
    "    }\n",
    "    example = tf.io.parse_single_example(example, LABELED_TFREC_FORMAT)\n",
    "    \n",
    "    image = decode_image(example['image'])\n",
    "    patient_id = example['patient_id']\n",
    "    side = example['side']\n",
    "    label = example['label']\n",
    "    \n",
    "    return image, label\n",
    "\n",
    "def load_dataset(filenames, labeled=True, ordered=False):\n",
    "    # Read from TFRecords. For optimal performance, reading from multiple files at once and\n",
    "    # disregarding data order. Order does not matter since we will be shuffling the data anyway.\n",
    "\n",
    "    ignore_order = tf.data.Options()\n",
    "    if not ordered:\n",
    "        ignore_order.experimental_deterministic = False # disable order, increase speed\n",
    "\n",
    "    dataset = tf.data.TFRecordDataset(filenames, num_parallel_reads=AUTO) # automatically interleaves reads from multiple files\n",
    "    dataset = dataset.with_options(ignore_order) # uses data as soon as it streams in, rather than in its original order\n",
    "    dataset = dataset.map(read_labeled_tfrecord)\n",
    "    # returns a dataset of (image, label) pairs if labeled=True or (image, id) pairs if labeled=False\n",
    "    return dataset\n",
    "\n",
    "def get_training_dataset(filenames):\n",
    "    dataset = load_dataset(filenames, labeled=True)\n",
    "    dataset = dataset.repeat() # the training dataset must repeat for several epochs\n",
    "    dataset = dataset.shuffle(2048)\n",
    "    dataset = dataset.batch(BATCH_SIZE)\n",
    "    dataset = dataset.prefetch(AUTO) # prefetch next batch while training (autotune prefetch buffer size)\n",
    "    return dataset"
   ]
  },
  {
   "cell_type": "code",
   "execution_count": 28,
   "metadata": {},
   "outputs": [],
   "source": [
    "AUTO = tf.data.experimental.AUTOTUNE\n",
    "\n",
    "train_dataset = get_training_dataset(TRAIN_FILENAMES)\n",
    "train_dataset = train_dataset.unbatch().batch(20)\n",
    "train_batch = iter(train_dataset)"
   ]
  },
  {
   "cell_type": "code",
   "execution_count": 29,
   "metadata": {},
   "outputs": [
    {
     "name": "stdout",
     "output_type": "stream",
     "text": [
      "Test: reading TFREcords file...\n",
      "Examples of the train data:\n",
      "\n"
     ]
    }
   ],
   "source": [
    "print('Test: reading TFREcords file...')\n",
    "print(\"Examples of the train data:\")\n",
    "\n",
    "print()\n",
    "\n",
    "batch_num = 0\n",
    "\n",
    "for image, label in train_dataset.take(5):\n",
    "    batch_num += 1\n",
    "    print('')\n",
    "    print('Batch num. ', batch_num)\n",
    "    print(\"The image batch size:\", image.numpy().shape)\n",
    "    print(\"Label\", label.numpy())"
   ]
  },
  {
   "cell_type": "code",
   "execution_count": null,
   "metadata": {},
   "outputs": [],
   "source": [
    "# OK, seems OK"
   ]
  }
 ],
 "metadata": {
  "kernelspec": {
   "display_name": "Python 3",
   "language": "python",
   "name": "python3"
  },
  "language_info": {
   "codemirror_mode": {
    "name": "ipython",
    "version": 3
   },
   "file_extension": ".py",
   "mimetype": "text/x-python",
   "name": "python",
   "nbconvert_exporter": "python",
   "pygments_lexer": "ipython3",
   "version": "3.12.5"
  }
 },
 "nbformat": 4,
 "nbformat_minor": 4
}
